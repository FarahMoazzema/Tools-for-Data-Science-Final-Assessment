{
 "cells": [
  {
   "cell_type": "markdown",
   "id": "c36bec71",
   "metadata": {},
   "source": [
    "# Data Science and Ecosystem"
   ]
  },
  {
   "cell_type": "markdown",
   "id": "fca4351b",
   "metadata": {},
   "source": [
    "In this notebook, Data Science Tools and Ecosystem are summarized."
   ]
  },
  {
   "cell_type": "markdown",
   "id": "d128eb2f",
   "metadata": {},
   "source": [
    "**Objectives:**\n",
    "- List some popular data science languages.\n",
    "- List some popular data science tools.\n",
    "- List some common IDEs used in data science.\n",
    "- Execute arithmetic expressions through code.\n",
    "- Learn how to use headings, bold texts, create lists and tables.  "
   ]
  },
  {
   "cell_type": "markdown",
   "id": "3a1fd292",
   "metadata": {},
   "source": [
    "Some of the popular languages that Data Scientists use are:\n",
    "1. Python\n",
    "2. R\n",
    "3. Julia\n",
    "4. Scala\n",
    "5. Java\n",
    "6. C++"
   ]
  },
  {
   "cell_type": "markdown",
   "id": "9827e7c6",
   "metadata": {},
   "source": [
    "Some of the commonly used libraries used by Data Scientists include:\n",
    "- TensorFlow\n",
    "- NumPy\n",
    "- Pandas\n",
    "- Scikit\n",
    "- PyTorch"
   ]
  },
  {
   "cell_type": "markdown",
   "id": "080eb6ae",
   "metadata": {},
   "source": [
    "|Data Science Tools|\n",
    "|------------------|\n",
    "|Jupyter Notebook|\n",
    "|Rstudio|\n",
    "|Github|"
   ]
  },
  {
   "cell_type": "markdown",
   "id": "deb1505c",
   "metadata": {},
   "source": [
    "### Below are a few examples of evaluating arithmetic expressions in Python"
   ]
  },
  {
   "cell_type": "code",
   "execution_count": 1,
   "id": "f2b8a553",
   "metadata": {},
   "outputs": [
    {
     "data": {
      "text/plain": [
       "17"
      ]
     },
     "execution_count": 1,
     "metadata": {},
     "output_type": "execute_result"
    }
   ],
   "source": [
    "##This a simple arithmetic expression to mutiply then add integers\n",
    "(3*4)+5"
   ]
  },
  {
   "cell_type": "code",
   "execution_count": 18,
   "id": "cadd427c",
   "metadata": {},
   "outputs": [
    {
     "name": "stdout",
     "output_type": "stream",
     "text": [
      "3.3333333333333335 hours\n"
     ]
    }
   ],
   "source": [
    "##This will convert 200 minutes to hours by diving by 60\n",
    "x=200/60\n",
    "print(x, 'hours')"
   ]
  },
  {
   "cell_type": "markdown",
   "id": "83abefb6",
   "metadata": {},
   "source": [
    "## Author\n",
    "Farah Moazzema Rifah"
   ]
  }
 ],
 "metadata": {
  "kernelspec": {
   "display_name": "Python 3 (ipykernel)",
   "language": "python",
   "name": "python3"
  },
  "language_info": {
   "codemirror_mode": {
    "name": "ipython",
    "version": 3
   },
   "file_extension": ".py",
   "mimetype": "text/x-python",
   "name": "python",
   "nbconvert_exporter": "python",
   "pygments_lexer": "ipython3",
   "version": "3.11.4"
  }
 },
 "nbformat": 4,
 "nbformat_minor": 5
}
